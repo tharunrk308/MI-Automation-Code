{
 "cells": [
  {
   "cell_type": "code",
   "execution_count": 1,
   "id": "21e311be",
   "metadata": {},
   "outputs": [],
   "source": [
    "###Required Libraries"
   ]
  },
  {
   "cell_type": "code",
   "execution_count": 2,
   "id": "8e5e23bd",
   "metadata": {},
   "outputs": [],
   "source": [
    "from selenium import webdriver\n",
    "import time\n",
    "from selenium.webdriver.support.ui import Select\n",
    "from selenium.webdriver.common.keys import Keys\n",
    "from selenium.webdriver.common.by import By\n",
    "from selenium.webdriver.support import expected_conditions as EC\n",
    "from selenium.webdriver.support.ui import WebDriverWait as wait\n",
    "from selenium.common.exceptions import NoSuchElementException\n",
    "from selenium.webdriver import ActionChains\n",
    "from PIL import Image \n",
    "from selenium.common.exceptions import ElementNotInteractableException\n",
    "from selenium.common.exceptions import TimeoutException, NoSuchElementException"
   ]
  },
  {
   "cell_type": "code",
   "execution_count": 3,
   "id": "cccbed5a",
   "metadata": {},
   "outputs": [
    {
     "data": {
      "text/plain": [
       "'C:\\\\Users\\\\tharun.rasakapuram\\\\Desktop\\\\Automation testing'"
      ]
     },
     "execution_count": 3,
     "metadata": {},
     "output_type": "execute_result"
    }
   ],
   "source": [
    "import os\n",
    "os.getcwd()\n",
    "username = os.getlogin()\n",
    "os.getcwd()"
   ]
  },
  {
   "cell_type": "code",
   "execution_count": 4,
   "id": "1679a428",
   "metadata": {},
   "outputs": [],
   "source": [
    "URL = 'https://mi-test.scimaxmi.com:5402/'\n",
    "User_Name = 'THA'\n",
    "Password = 'Manager@123'\n",
    "Superadmin = 'superadmin'\n",
    "SAPW = 'Manager@1234'\n",
    "username = os.getlogin()\n",
    "#processing=wait(driver, 40).until(EC.invisibility_of_element_located((By.XPATH, '//*[@class=\"actionProcessing\"]//span[contains(text(),Processing)]')))"
   ]
  },
  {
   "cell_type": "code",
   "execution_count": 5,
   "id": "35a85f85",
   "metadata": {},
   "outputs": [],
   "source": [
    "URL = \"https://mi-test.scimaxmi.com:5402/\"\n",
    "User_Name = 'tha'\n",
    "Build = '24R2'"
   ]
  },
  {
   "cell_type": "code",
   "execution_count": 6,
   "id": "20344e28",
   "metadata": {},
   "outputs": [
    {
     "name": "stderr",
     "output_type": "stream",
     "text": [
      "C:\\Users\\tharun.rasakapuram\\AppData\\Local\\Temp\\ipykernel_18316\\1840674426.py:1: DeprecationWarning: executable_path has been deprecated, please pass in a Service object\n",
      "  driver = webdriver.Chrome(r\"C:\\Users\\\\\"+username+\"\\\\Desktop\\\\Automation testing\\\\chromedriver.exe\")\n"
     ]
    }
   ],
   "source": [
    "driver = webdriver.Chrome(r\"C:\\Users\\\\\"+username+\"\\\\Desktop\\\\Automation testing\\\\chromedriver.exe\")\n",
    "driver.get(URL)\n",
    "driver.maximize_window()"
   ]
  },
  {
   "cell_type": "code",
   "execution_count": 7,
   "id": "88f473b8",
   "metadata": {},
   "outputs": [],
   "source": [
    "processing=wait(driver, 120).until(EC.invisibility_of_element_located((By.XPATH, '//*[@class=\"actionProcessing\"]//span[contains(text(),Processing)]')))\n",
    "#User Name\n",
    "wait(driver, 120).until(EC.element_to_be_clickable((By.ID, \"txtLoginUserID\"))).send_keys(User_Name)\n",
    "#Next\n",
    "wait(driver, 120).until(EC.element_to_be_clickable((By.ID, \"btnLoginNext\"))).click()"
   ]
  },
  {
   "cell_type": "code",
   "execution_count": 8,
   "id": "fb434656",
   "metadata": {},
   "outputs": [],
   "source": [
    "#Password\n",
    "wait(driver, 120).until(EC.element_to_be_clickable((By.ID, \"txtLoginPassword\"))).send_keys(Password)\n",
    "#Next\n",
    "wait(driver, 120).until(EC.element_to_be_clickable((By.ID, \"btnLoginNext\"))).click()"
   ]
  },
  {
   "cell_type": "code",
   "execution_count": 9,
   "id": "93370c12",
   "metadata": {},
   "outputs": [
    {
     "name": "stdout",
     "output_type": "stream",
     "text": [
      "Existing User\n"
     ]
    }
   ],
   "source": [
    "error = driver.find_element(\"id\",'spStatusMsg') #this element is visible\n",
    "if error.is_displayed():\n",
    "    driver.get(URL)\n",
    "    Superadmin = driver.find_element('id',\"txtLoginUserID\")\n",
    "    Superadmin.send_keys('superadmin')\n",
    "    #Click Next\n",
    "    driver.find_element('id',\"btnLoginNext\").click()\n",
    "    wait(driver, 120).until(EC.element_to_be_clickable((By.ID, \"txtLoginPassword\"))).send_keys(SAPW)\n",
    "    wait(driver, 120).until(EC.element_to_be_clickable((By.ID, \"btnLoginNext\"))).click()\n",
    "    #time.sleep(5)\n",
    "else:\n",
    "    print('Existing User')"
   ]
  },
  {
   "cell_type": "code",
   "execution_count": 10,
   "id": "8d89ee08",
   "metadata": {},
   "outputs": [
    {
     "name": "stdout",
     "output_type": "stream",
     "text": [
      "Element with the specified XPath did not appear in time.\n",
      "Continuing with next steps...\n",
      "ok\n"
     ]
    }
   ],
   "source": [
    "try:\n",
    "    # Navigate to the target webpagedriver.get('https://example.com')Wait for the element to be present\n",
    "    try:\n",
    "        # Adjust the XPath as necessary\n",
    "        element = wait(driver, 10).until(EC.element_to_be_clickable((By.XPATH, '//*[@onclick=\"ConfirmationPopupYesSelect()\"]')))\n",
    "        element.click()  # Click if the element is found and clickable\n",
    "        print(\"Clicked on the element.\")\n",
    "    except TimeoutException:\n",
    "        print(\"Element with the specified XPath did not appear in time.\")\n",
    "    except NoSuchElementException:\n",
    "        print(\"Element with specified XPath does not exist.\")\n",
    "\n",
    "    # Continue with the next steps\n",
    "    print(\"Continuing with next steps...\")\n",
    "\n",
    "finally:\n",
    "    # Close the driver after operations\n",
    "    print('ok')\n"
   ]
  },
  {
   "cell_type": "code",
   "execution_count": 11,
   "id": "a2100c98",
   "metadata": {},
   "outputs": [
    {
     "data": {
      "text/plain": [
       "<selenium.webdriver.remote.webelement.WebElement (session=\"a919a6816c31f557d79b839ff0992a7a\", element=\"f.E1FF2717FD4FD4B7B3CF3C412E4431B5.d.140490E07CFFE261BC4922E4D2229BF2.e.22\")>"
      ]
     },
     "execution_count": 11,
     "metadata": {},
     "output_type": "execute_result"
    }
   ],
   "source": [
    "wait(driver, 120).until(EC.element_to_be_clickable((By.XPATH, '//*[@id=\"IN\"]//span[contains(text(),\"Inbox\")]'))).click()\n",
    "processing"
   ]
  },
  {
   "cell_type": "code",
   "execution_count": 12,
   "id": "5d2dc547",
   "metadata": {},
   "outputs": [
    {
     "data": {
      "text/plain": [
       "<selenium.webdriver.remote.webelement.WebElement (session=\"a919a6816c31f557d79b839ff0992a7a\", element=\"f.E1FF2717FD4FD4B7B3CF3C412E4431B5.d.140490E07CFFE261BC4922E4D2229BF2.e.22\")>"
      ]
     },
     "execution_count": 12,
     "metadata": {},
     "output_type": "execute_result"
    }
   ],
   "source": [
    "#First Message\n",
    "wait(driver, 120).until(EC.element_to_be_clickable((By.XPATH, \"//*[@id='msg00']\"))).click()\n",
    "processing"
   ]
  },
  {
   "cell_type": "code",
   "execution_count": 13,
   "id": "38bb0b59",
   "metadata": {},
   "outputs": [
    {
     "data": {
      "text/plain": [
       "<selenium.webdriver.remote.webelement.WebElement (session=\"a919a6816c31f557d79b839ff0992a7a\", element=\"f.E1FF2717FD4FD4B7B3CF3C412E4431B5.d.140490E07CFFE261BC4922E4D2229BF2.e.22\")>"
      ]
     },
     "execution_count": 13,
     "metadata": {},
     "output_type": "execute_result"
    }
   ],
   "source": [
    "#Lock\n",
    "wait(driver, 120).until(EC.element_to_be_clickable((By.XPATH, \"//img[contains(@src, 'images/lock.png') and @alt = 'Lock']\"))).click()\n",
    "processing"
   ]
  },
  {
   "cell_type": "code",
   "execution_count": 14,
   "id": "4ebc9517",
   "metadata": {},
   "outputs": [
    {
     "data": {
      "text/plain": [
       "<selenium.webdriver.remote.webelement.WebElement (session=\"a919a6816c31f557d79b839ff0992a7a\", element=\"f.E1FF2717FD4FD4B7B3CF3C412E4431B5.d.20B2FB78B1C6BC11A166206156B15C9C.e.578\")>"
      ]
     },
     "execution_count": 14,
     "metadata": {},
     "output_type": "execute_result"
    }
   ],
   "source": [
    "wait(driver, 120).until(EC.element_to_be_clickable((By.XPATH, \"//span[normalize-space()='Processing...']\")))"
   ]
  },
  {
   "cell_type": "code",
   "execution_count": 15,
   "id": "4eaecc80",
   "metadata": {
    "scrolled": true
   },
   "outputs": [
    {
     "data": {
      "text/plain": [
       "<selenium.webdriver.remote.webelement.WebElement (session=\"a919a6816c31f557d79b839ff0992a7a\", element=\"f.E1FF2717FD4FD4B7B3CF3C412E4431B5.d.140490E07CFFE261BC4922E4D2229BF2.e.22\")>"
      ]
     },
     "execution_count": 15,
     "metadata": {},
     "output_type": "execute_result"
    }
   ],
   "source": [
    "#Create New Case\n",
    "processing\n",
    "\n",
    "wait(driver, 120).until(EC.element_to_be_clickable((By.XPATH, \"//*[@id='aNewCase']\")))\n",
    "processing\n",
    "wait(driver, 120).until(EC.element_to_be_clickable((By.XPATH, \"//*[@id='aNewCase']\"))).click()\n",
    "#wait(driver, 40).until(EC.invisibility_of_element_located((By.XPATH, '//*[@class=\"popupProcessing\"]//span[contains(text(),Processing)]')))\n",
    "processing"
   ]
  },
  {
   "cell_type": "code",
   "execution_count": 16,
   "id": "3519040f",
   "metadata": {},
   "outputs": [],
   "source": [
    "#wait(driver, 60).until(EC.element_to_be_clickable((By.XPATH, '//*[@data-ng-class=\"I_O_Class\"][2]'))).click()\n",
    "#wait(driver, 60).until(EC.element_to_be_clickable((By.XPATH, '//*[@id=\"refferencesImg\"]'))).click()\n"
   ]
  },
  {
   "cell_type": "code",
   "execution_count": 17,
   "id": "e05a45d7",
   "metadata": {
    "scrolled": true
   },
   "outputs": [],
   "source": [
    "# #Open Check Box\n",
    "# #wait(driver, 60).until(EC.element_to_be_clickable((By.XPATH, '//*[@class=\"cbx-main m0\"]//span[@data-ng-class=\"I_O_Class\"]'))).click()\n",
    "# wait(driver, 60).until(EC.element_to_be_clickable((By.XPATH, '//*[@data-ng-click=\"OpenAttachments()\"]')))\n",
    "# wait(driver, 60).until(EC.element_to_be_clickable((By.XPATH, \"//span[@data-ng-class='I_O_Class']\"))).click()"
   ]
  },
  {
   "cell_type": "code",
   "execution_count": 18,
   "id": "5ba4dd39",
   "metadata": {},
   "outputs": [
    {
     "data": {
      "text/plain": [
       "<selenium.webdriver.remote.webelement.WebElement (session=\"a919a6816c31f557d79b839ff0992a7a\", element=\"f.E1FF2717FD4FD4B7B3CF3C412E4431B5.d.20B2FB78B1C6BC11A166206156B15C9C.e.765\")>"
      ]
     },
     "execution_count": 18,
     "metadata": {},
     "output_type": "execute_result"
    }
   ],
   "source": [
    "time.sleep(1)\n",
    "processing\n",
    "#Trade name\n",
    "wait(driver, 120).until(EC.element_to_be_clickable((By.XPATH, '//*[@id=\"imgPInfoProductSearch\"]/img')))\n",
    "#driver.find_element_by_xpath('//*[@id=\"imgPInfoProductSearch\"]/img').click()\n",
    "\n",
    "driver.find_element(By.XPATH,'//*[@id=\"imgPInfoProductSearch\"]/img').click()\n",
    "wait(driver, 120).until(EC.element_to_be_clickable((By.XPATH, '//*[@id=\"imgPInfoProductSearch\"]/img')))"
   ]
  },
  {
   "cell_type": "code",
   "execution_count": null,
   "id": "d798852c",
   "metadata": {},
   "outputs": [],
   "source": []
  },
  {
   "cell_type": "code",
   "execution_count": 19,
   "id": "aea9c59f",
   "metadata": {},
   "outputs": [
    {
     "data": {
      "text/plain": [
       "<selenium.webdriver.remote.webelement.WebElement (session=\"a919a6816c31f557d79b839ff0992a7a\", element=\"f.E1FF2717FD4FD4B7B3CF3C412E4431B5.d.140490E07CFFE261BC4922E4D2229BF2.e.22\")>"
      ]
     },
     "execution_count": 19,
     "metadata": {},
     "output_type": "execute_result"
    }
   ],
   "source": [
    "processing\n",
    "#driver.find_element(By.XPATH,'//*[@id=\"gvTradeName\"]/tbody/tr[1]/td/span').click()\n",
    "wait(driver, 120).until(EC.element_to_be_clickable((By.XPATH, '//*[@id=\"gvTradeName\"]/tbody/tr[1]/td/span'))).click()\n",
    "processing"
   ]
  },
  {
   "cell_type": "code",
   "execution_count": null,
   "id": "5a839215",
   "metadata": {},
   "outputs": [],
   "source": []
  },
  {
   "cell_type": "code",
   "execution_count": 20,
   "id": "2366d817",
   "metadata": {},
   "outputs": [
    {
     "data": {
      "text/plain": [
       "True"
      ]
     },
     "execution_count": 20,
     "metadata": {},
     "output_type": "execute_result"
    }
   ],
   "source": [
    "#driver.find_element(By.XPATH,'//*[@id=\"btnSelect\"]').click()\n",
    "wait(driver, 120).until(EC.element_to_be_clickable((By.XPATH, '//*[@id=\"btnSelect\"]'))).click()\n",
    "wait(driver, 120).until(EC.invisibility_of_element_located((By.XPATH, '//*[@class=\"popupProcessing\"]//span[contains(text(),Processing)]')))\n",
    "\n",
    "#driver.find_element(By.XPATH,'//*[@class=\"cbx-main m0\"]//span[@data-ng-class=\"I_O_Class\"]').click()\n"
   ]
  },
  {
   "cell_type": "code",
   "execution_count": 21,
   "id": "5ba7a011",
   "metadata": {},
   "outputs": [],
   "source": [
    "#Open Check Box\n",
    "#wait(driver, 60).until(EC.element_to_be_clickable((By.XPATH, '//*[@class=\"cbx-main m0\"]//span[@data-ng-class=\"I_O_Class\"]'))).click()\n",
    "wait(driver, 120).until(EC.element_to_be_clickable((By.XPATH, '//*[@data-ng-click=\"OpenAttachments()\"]')))\n",
    "wait(driver, 120).until(EC.element_to_be_clickable((By.XPATH, \"//span[@data-ng-class='I_O_Class']\"))).click()"
   ]
  },
  {
   "cell_type": "code",
   "execution_count": 22,
   "id": "a693e75f",
   "metadata": {},
   "outputs": [],
   "source": [
    "driver.execute_script(\"window.scrollTo(0, document.body.scrollHeight)\")"
   ]
  },
  {
   "cell_type": "code",
   "execution_count": 23,
   "id": "cdabcbc1",
   "metadata": {},
   "outputs": [],
   "source": [
    "#Country\n",
    "try:\n",
    "    driver.find_element(\"xpath\",'//*[@id=\"lbl_CRI_Co\"]/following-sibling::div//input').send_keys(Keys.CONTROL + \"a\")\n",
    "    driver.find_element(\"xpath\",'//*[@id=\"lbl_CRI_Co\"]/following-sibling::div//input').send_keys('INDIA')\n",
    "except ElementNotInteractableException:  #spelling error making this code not work as expected\n",
    "    pass\n",
    "\n",
    "#//*[@class=\"globeicon man-border pusheadfield psRltv ng-pristine ng-valid ng-isolate-scope ui-autocomplete-input ng-empty ng-touched\"]"
   ]
  },
  {
   "cell_type": "code",
   "execution_count": 24,
   "id": "526f2ef6",
   "metadata": {},
   "outputs": [],
   "source": [
    "#Last Name\n",
    "#driver.execute_script(\"window.scrollTo(0, 1)\")\n",
    "wait(driver, 20).until(EC.element_to_be_clickable((By.XPATH, \"//*[@id='txt_CRI_LN']\"))).send_keys(Keys.CONTROL + \"a\")\n",
    "wait(driver, 20).until(EC.element_to_be_clickable((By.XPATH, \"//*[@id='txt_CRI_LN']\"))).send_keys('Correspondence Smoke Testing')"
   ]
  },
  {
   "cell_type": "code",
   "execution_count": 25,
   "id": "e09046d2",
   "metadata": {},
   "outputs": [],
   "source": [
    "try:\n",
    "    RTdropdown = Select(driver.find_element(\"xpath\",'//*[@id=\"ddl_CRI_RT\"]'))\n",
    "    RTdropdown.select_by_index(1)\n",
    "\n",
    "except ElementNotInteractableException:  #spelling error making this code not work as expected\n",
    "    pass"
   ]
  },
  {
   "cell_type": "code",
   "execution_count": 26,
   "id": "9dfac564",
   "metadata": {},
   "outputs": [
    {
     "data": {
      "text/plain": [
       "<selenium.webdriver.remote.webelement.WebElement (session=\"a919a6816c31f557d79b839ff0992a7a\", element=\"f.E1FF2717FD4FD4B7B3CF3C412E4431B5.d.140490E07CFFE261BC4922E4D2229BF2.e.22\")>"
      ]
     },
     "execution_count": 26,
     "metadata": {},
     "output_type": "execute_result"
    }
   ],
   "source": [
    "wait(driver, 60).until(EC.element_to_be_clickable((By.XPATH, \"//img[contains(@src, 'images/editcaseicons/save.png') and @alt = 'IMG']\"))).click()\n",
    "processing"
   ]
  },
  {
   "cell_type": "code",
   "execution_count": 27,
   "id": "9beadc1c",
   "metadata": {},
   "outputs": [],
   "source": [
    "# body = driver.find_element(\"tag name\", \"body\")\n",
    "# for _ in range(21):  # Number of scrolls\n",
    "#     body.send_keys(Keys.DOWN)"
   ]
  },
  {
   "cell_type": "code",
   "execution_count": 28,
   "id": "81da5bec",
   "metadata": {},
   "outputs": [],
   "source": [
    "try:\n",
    "    driver.find_element(\"xpath\",'//*[@id=\"lbl_CRI_Co\"]/following-sibling::div//input').send_keys(Keys.CONTROL + \"a\")\n",
    "    driver.find_element(\"xpath\",'//*[@id=\"lbl_CRI_Co\"]/following-sibling::div//input').send_keys('INDIA')\n",
    "except ElementNotInteractableException:  #spelling error making this code not work as expected\n",
    "    pass"
   ]
  },
  {
   "cell_type": "code",
   "execution_count": 29,
   "id": "10aee8b1",
   "metadata": {},
   "outputs": [
    {
     "ename": "KeyboardInterrupt",
     "evalue": "",
     "output_type": "error",
     "traceback": [
      "\u001b[1;31m---------------------------------------------------------------------------\u001b[0m",
      "\u001b[1;31mKeyboardInterrupt\u001b[0m                         Traceback (most recent call last)",
      "Cell \u001b[1;32mIn[29], line 2\u001b[0m\n\u001b[0;32m      1\u001b[0m wait(driver, \u001b[38;5;241m120\u001b[39m)\u001b[38;5;241m.\u001b[39muntil(EC\u001b[38;5;241m.\u001b[39melement_to_be_clickable((By\u001b[38;5;241m.\u001b[39mXPATH, \u001b[38;5;124m'\u001b[39m\u001b[38;5;124m//*[@class=\u001b[39m\u001b[38;5;124m\"\u001b[39m\u001b[38;5;124minputrow multiDD\u001b[39m\u001b[38;5;124m\"\u001b[39m\u001b[38;5;124m]//input[@id=\u001b[39m\u001b[38;5;124m\"\u001b[39m\u001b[38;5;124mtxt_MI_RV\u001b[39m\u001b[38;5;124m\"\u001b[39m\u001b[38;5;124m]\u001b[39m\u001b[38;5;124m'\u001b[39m)))\u001b[38;5;241m.\u001b[39mclick()\n\u001b[1;32m----> 2\u001b[0m \u001b[43mwait\u001b[49m\u001b[43m(\u001b[49m\u001b[43mdriver\u001b[49m\u001b[43m,\u001b[49m\u001b[43m \u001b[49m\u001b[38;5;241;43m120\u001b[39;49m\u001b[43m)\u001b[49m\u001b[38;5;241;43m.\u001b[39;49m\u001b[43muntil\u001b[49m\u001b[43m(\u001b[49m\u001b[43mEC\u001b[49m\u001b[38;5;241;43m.\u001b[39;49m\u001b[43melement_to_be_clickable\u001b[49m\u001b[43m(\u001b[49m\u001b[43m(\u001b[49m\u001b[43mBy\u001b[49m\u001b[38;5;241;43m.\u001b[39;49m\u001b[43mXPATH\u001b[49m\u001b[43m,\u001b[49m\u001b[43m \u001b[49m\u001b[38;5;124;43m'\u001b[39;49m\u001b[38;5;124;43m//*[@id=\u001b[39;49m\u001b[38;5;124;43m\"\u001b[39;49m\u001b[38;5;124;43mchk_MI_RV\u001b[39;49m\u001b[38;5;124;43m\"\u001b[39;49m\u001b[38;5;124;43m]//ul//label[contains(text(),\u001b[39;49m\u001b[38;5;124;43m\"\u001b[39;49m\u001b[38;5;124;43mPhone\u001b[39;49m\u001b[38;5;124;43m\"\u001b[39;49m\u001b[38;5;124;43m)]/span\u001b[39;49m\u001b[38;5;124;43m'\u001b[39;49m\u001b[43m)\u001b[49m\u001b[43m)\u001b[49m\u001b[43m)\u001b[49m\u001b[38;5;241m.\u001b[39mclick()\n\u001b[0;32m      3\u001b[0m wait(driver, \u001b[38;5;241m120\u001b[39m)\u001b[38;5;241m.\u001b[39muntil(EC\u001b[38;5;241m.\u001b[39melement_to_be_clickable((By\u001b[38;5;241m.\u001b[39mXPATH, \u001b[38;5;124m'\u001b[39m\u001b[38;5;124m//*[@id=\u001b[39m\u001b[38;5;124m\"\u001b[39m\u001b[38;5;124mchk_MI_RV\u001b[39m\u001b[38;5;124m\"\u001b[39m\u001b[38;5;124m]//ul//label[contains(text(),\u001b[39m\u001b[38;5;124m\"\u001b[39m\u001b[38;5;124mEmail\u001b[39m\u001b[38;5;124m\"\u001b[39m\u001b[38;5;124m)]/span\u001b[39m\u001b[38;5;124m'\u001b[39m)))\u001b[38;5;241m.\u001b[39mclick()\n\u001b[0;32m      4\u001b[0m wait(driver, \u001b[38;5;241m120\u001b[39m)\u001b[38;5;241m.\u001b[39muntil(EC\u001b[38;5;241m.\u001b[39melement_to_be_clickable((By\u001b[38;5;241m.\u001b[39mXPATH, \u001b[38;5;124m'\u001b[39m\u001b[38;5;124m//*[@id=\u001b[39m\u001b[38;5;124m\"\u001b[39m\u001b[38;5;124mchk_MI_RV\u001b[39m\u001b[38;5;124m\"\u001b[39m\u001b[38;5;124m]//ul//label[contains(text(),\u001b[39m\u001b[38;5;124m\"\u001b[39m\u001b[38;5;124mFax\u001b[39m\u001b[38;5;124m\"\u001b[39m\u001b[38;5;124m)]/span\u001b[39m\u001b[38;5;124m'\u001b[39m)))\u001b[38;5;241m.\u001b[39mclick()\n",
      "File \u001b[1;32m~\\anaconda3\\lib\\site-packages\\selenium\\webdriver\\support\\wait.py:92\u001b[0m, in \u001b[0;36mWebDriverWait.until\u001b[1;34m(self, method, message)\u001b[0m\n\u001b[0;32m     90\u001b[0m     screen \u001b[38;5;241m=\u001b[39m \u001b[38;5;28mgetattr\u001b[39m(exc, \u001b[38;5;124m\"\u001b[39m\u001b[38;5;124mscreen\u001b[39m\u001b[38;5;124m\"\u001b[39m, \u001b[38;5;28;01mNone\u001b[39;00m)\n\u001b[0;32m     91\u001b[0m     stacktrace \u001b[38;5;241m=\u001b[39m \u001b[38;5;28mgetattr\u001b[39m(exc, \u001b[38;5;124m\"\u001b[39m\u001b[38;5;124mstacktrace\u001b[39m\u001b[38;5;124m\"\u001b[39m, \u001b[38;5;28;01mNone\u001b[39;00m)\n\u001b[1;32m---> 92\u001b[0m \u001b[43mtime\u001b[49m\u001b[38;5;241;43m.\u001b[39;49m\u001b[43msleep\u001b[49m\u001b[43m(\u001b[49m\u001b[38;5;28;43mself\u001b[39;49m\u001b[38;5;241;43m.\u001b[39;49m\u001b[43m_poll\u001b[49m\u001b[43m)\u001b[49m\n\u001b[0;32m     93\u001b[0m \u001b[38;5;28;01mif\u001b[39;00m time\u001b[38;5;241m.\u001b[39mmonotonic() \u001b[38;5;241m>\u001b[39m end_time:\n\u001b[0;32m     94\u001b[0m     \u001b[38;5;28;01mbreak\u001b[39;00m\n",
      "\u001b[1;31mKeyboardInterrupt\u001b[0m: "
     ]
    }
   ],
   "source": [
    "wait(driver, 120).until(EC.element_to_be_clickable((By.XPATH, '//*[@class=\"inputrow multiDD\"]//input[@id=\"txt_MI_RV\"]'))).click()\n",
    "wait(driver, 120).until(EC.element_to_be_clickable((By.XPATH, '//*[@id=\"chk_MI_RV\"]//ul//label[contains(text(),\"Phone\")]/span'))).click()\n",
    "wait(driver, 120).until(EC.element_to_be_clickable((By.XPATH, '//*[@id=\"chk_MI_RV\"]//ul//label[contains(text(),\"Email\")]/span'))).click()\n",
    "wait(driver, 120).until(EC.element_to_be_clickable((By.XPATH, '//*[@id=\"chk_MI_RV\"]//ul//label[contains(text(),\"Fax\")]/span'))).click()"
   ]
  },
  {
   "cell_type": "code",
   "execution_count": null,
   "id": "4e54c737",
   "metadata": {},
   "outputs": [],
   "source": [
    "driver.execute_script(\"document.body.style.zoom='80%'\")"
   ]
  },
  {
   "cell_type": "code",
   "execution_count": null,
   "id": "6d81d262",
   "metadata": {},
   "outputs": [],
   "source": [
    "#images/editcaseicons/correspondence.png\n",
    "#Click Correspondence\n",
    "wait(driver, 60).until(EC.element_to_be_clickable((By.XPATH, \"//img[contains(@src, 'images/editcaseicons/correspondence.png') and @alt = 'IMG']\"))).click()\n",
    "processing"
   ]
  },
  {
   "cell_type": "code",
   "execution_count": null,
   "id": "10090e84",
   "metadata": {},
   "outputs": [],
   "source": [
    "# processing\n",
    "# wait(driver, 60).until(EC.element_to_be_clickable((By.XPATH, '//*[@id=\"PInbox\"]')))\n",
    "\n",
    "# wait(driver, 60).until(EC.element_to_be_clickable((By.XPATH, \"//img[contains(@src, 'images/editcaseicons/attachment.png') and @alt = 'IMG']\"))).click()\n",
    "# processing"
   ]
  },
  {
   "cell_type": "code",
   "execution_count": null,
   "id": "a86e5581",
   "metadata": {},
   "outputs": [],
   "source": [
    "# try:\n",
    "#         button = driver.find_element(By.CSS_SELECTOR, button_selector)\n",
    "\n",
    "#         # Click the button multiple times\n",
    "#         for _ in range(num_clicks):\n",
    "#             button.click()\n",
    "#             time.sleep(delay)  # Wait for a specified delay between clicks\n",
    "\n",
    "#     except Exception as e:\n",
    "#         print(f\"An error occurred: {e}\")\n",
    "#     finally:"
   ]
  },
  {
   "cell_type": "code",
   "execution_count": null,
   "id": "75c97afb",
   "metadata": {},
   "outputs": [],
   "source": [
    "wait(driver, 120).until(EC.element_to_be_clickable((By.XPATH, \"//img[contains(@src, '../Pages/Images/compose2.png') and @alt = 'compose']\"))).click()"
   ]
  },
  {
   "cell_type": "code",
   "execution_count": null,
   "id": "b1ebe31c",
   "metadata": {},
   "outputs": [],
   "source": [
    "# ONLINE EDITOR"
   ]
  },
  {
   "cell_type": "code",
   "execution_count": null,
   "id": "d78930f7",
   "metadata": {},
   "outputs": [],
   "source": [
    "wait(driver, 120).until(EC.element_to_be_clickable((By.XPATH, \"//img[contains(@src, 'images/doc-compose.png') and @alt = 'Document Compose']\"))).click()"
   ]
  },
  {
   "cell_type": "code",
   "execution_count": null,
   "id": "d4519414",
   "metadata": {},
   "outputs": [],
   "source": [
    "wait(driver, 120).until(EC.element_to_be_clickable((By.XPATH, \"//*[@id='txtFileName']\"))).send_keys(Keys.CONTROL + \"a\")\n",
    "wait(driver, 120).until(EC.element_to_be_clickable((By.XPATH, \"//*[@id='txtFileName']\"))).send_keys('ONLINE CREATED DOC')"
   ]
  },
  {
   "cell_type": "code",
   "execution_count": null,
   "id": "f8423615",
   "metadata": {},
   "outputs": [],
   "source": [
    "wait(driver, 120).until(EC.element_to_be_clickable((By.ID, \"btnCreate\"))).click()"
   ]
  },
  {
   "cell_type": "code",
   "execution_count": null,
   "id": "650fd9f3",
   "metadata": {},
   "outputs": [],
   "source": [
    "wait(driver, 120).until(EC.element_to_be_clickable((By.XPATH, '//*[@class=\"case-search popover-95\"]'))).click()\n"
   ]
  },
  {
   "cell_type": "code",
   "execution_count": null,
   "id": "2fe38efc",
   "metadata": {
    "scrolled": true
   },
   "outputs": [],
   "source": [
    "wait(driver, 2).until(EC.frame_to_be_available_and_switch_to_it((By.CSS_SELECTOR,\"theme-classic-light chrome theme-type-light\")))\n",
    "wait(driver, 2).until(EC.element_to_be_clickable((By.CSS_SELECTOR, \"cke_wysiwyg_frame cke_reset\"))).send_keys(\"anynaynanya\")"
   ]
  },
  {
   "cell_type": "code",
   "execution_count": null,
   "id": "deb72665",
   "metadata": {},
   "outputs": [],
   "source": [
    "from selenium.webdriver.common.action_chains import ActionChains\n",
    "actions = ActionChains(driver)\n",
    "actions.send_keys('dummydata')\n",
    "actions.perform()"
   ]
  },
  {
   "cell_type": "code",
   "execution_count": null,
   "id": "094afcfd",
   "metadata": {},
   "outputs": [],
   "source": [
    "wait(driver, 2).until(EC.frame_to_be_available_and_switch_to_it((By.NAME,\"frameEditor\")))"
   ]
  },
  {
   "cell_type": "code",
   "execution_count": null,
   "id": "8a667896",
   "metadata": {},
   "outputs": [],
   "source": []
  },
  {
   "cell_type": "code",
   "execution_count": null,
   "id": "05d06f68",
   "metadata": {},
   "outputs": [],
   "source": [
    "//*[@id=\"id_main_view\"]/div[@id=\"id_target_cursor\"]"
   ]
  },
  {
   "cell_type": "code",
   "execution_count": null,
   "id": "25c6c523",
   "metadata": {},
   "outputs": [],
   "source": []
  },
  {
   "cell_type": "code",
   "execution_count": null,
   "id": "87015aff",
   "metadata": {},
   "outputs": [],
   "source": []
  },
  {
   "cell_type": "code",
   "execution_count": null,
   "id": "f13984e9",
   "metadata": {},
   "outputs": [],
   "source": []
  },
  {
   "cell_type": "code",
   "execution_count": null,
   "id": "699f5fe8",
   "metadata": {},
   "outputs": [],
   "source": []
  },
  {
   "cell_type": "code",
   "execution_count": null,
   "id": "395ef817",
   "metadata": {},
   "outputs": [],
   "source": []
  },
  {
   "cell_type": "code",
   "execution_count": null,
   "id": "95a15a89",
   "metadata": {},
   "outputs": [],
   "source": []
  },
  {
   "cell_type": "code",
   "execution_count": null,
   "id": "88a61a05",
   "metadata": {},
   "outputs": [],
   "source": []
  },
  {
   "cell_type": "code",
   "execution_count": null,
   "id": "88228e8f",
   "metadata": {},
   "outputs": [],
   "source": [
    "# Switch to default content to interact with elements outside the iframe\n",
    "driver.switch_to.default_content()"
   ]
  },
  {
   "cell_type": "code",
   "execution_count": null,
   "id": "17af2a6b",
   "metadata": {},
   "outputs": [],
   "source": []
  },
  {
   "cell_type": "code",
   "execution_count": null,
   "id": "f9b10ebd",
   "metadata": {},
   "outputs": [],
   "source": []
  },
  {
   "cell_type": "code",
   "execution_count": null,
   "id": "084065c0",
   "metadata": {},
   "outputs": [],
   "source": []
  },
  {
   "cell_type": "code",
   "execution_count": null,
   "id": "d05c0d49",
   "metadata": {},
   "outputs": [],
   "source": []
  },
  {
   "cell_type": "code",
   "execution_count": null,
   "id": "b42d9a18",
   "metadata": {},
   "outputs": [],
   "source": []
  },
  {
   "cell_type": "code",
   "execution_count": null,
   "id": "e98fed82",
   "metadata": {},
   "outputs": [],
   "source": []
  },
  {
   "cell_type": "code",
   "execution_count": null,
   "id": "58ed76df",
   "metadata": {},
   "outputs": [],
   "source": []
  },
  {
   "cell_type": "code",
   "execution_count": null,
   "id": "dad26b82",
   "metadata": {},
   "outputs": [],
   "source": []
  },
  {
   "cell_type": "code",
   "execution_count": null,
   "id": "823c8a7d",
   "metadata": {},
   "outputs": [],
   "source": []
  },
  {
   "cell_type": "code",
   "execution_count": null,
   "id": "82388d5c",
   "metadata": {},
   "outputs": [],
   "source": []
  },
  {
   "cell_type": "code",
   "execution_count": null,
   "id": "11a435c8",
   "metadata": {},
   "outputs": [],
   "source": []
  },
  {
   "cell_type": "code",
   "execution_count": null,
   "id": "6d8e476f",
   "metadata": {},
   "outputs": [],
   "source": []
  }
 ],
 "metadata": {
  "kernelspec": {
   "display_name": "Python 3 (ipykernel)",
   "language": "python",
   "name": "python3"
  },
  "language_info": {
   "codemirror_mode": {
    "name": "ipython",
    "version": 3
   },
   "file_extension": ".py",
   "mimetype": "text/x-python",
   "name": "python",
   "nbconvert_exporter": "python",
   "pygments_lexer": "ipython3",
   "version": "3.10.9"
  }
 },
 "nbformat": 4,
 "nbformat_minor": 5
}
